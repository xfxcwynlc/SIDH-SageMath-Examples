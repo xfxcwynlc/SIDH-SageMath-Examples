{
 "cells": [
  {
   "cell_type": "markdown",
   "metadata": {},
   "source": [
    "# SIDH Toy Example "
   ]
  },
  {
   "cell_type": "markdown",
   "metadata": {},
   "source": [
    "## Public parameters"
   ]
  },
  {
   "cell_type": "code",
   "execution_count": 1,
   "metadata": {},
   "outputs": [
    {
     "data": {
      "text/plain": [
       "(431, Finite Field in i of size 431^2)"
      ]
     },
     "execution_count": 1,
     "metadata": {},
     "output_type": "execute_result"
    }
   ],
   "source": [
    "#generates field K = Fp^2 with generator i\n",
    "p=2^4*3^3-1\n",
    "_.<I> = GF(p)[] \n",
    "K.<i> = GF(p^2, modulus=I^2+1)\n",
    "p,K"
   ]
  },
  {
   "cell_type": "code",
   "execution_count": 2,
   "metadata": {},
   "outputs": [
    {
     "data": {
      "text/plain": [
       "Elliptic Curve defined by y^2 = x^3 + (172*i+162)*x^2 + x over Finite Field in i of size 431^2"
      ]
     },
     "execution_count": 2,
     "metadata": {},
     "output_type": "execute_result"
    }
   ],
   "source": [
    "# Define (supersingular) E = x^3 + (172*i+162)*x^2 + x\n",
    "P = K([162,172])  #fetch point = (172i+162) in K\n",
    "E = EllipticCurve(K,[0,P,0,1,0])\n",
    "E "
   ]
  },
  {
   "cell_type": "code",
   "execution_count": 3,
   "metadata": {},
   "outputs": [
    {
     "data": {
      "text/plain": [
       "((131*i + 44 : 215*i + 93 : 1), (256*i + 297 : 5*i + 114 : 1))"
      ]
     },
     "execution_count": 3,
     "metadata": {},
     "output_type": "execute_result"
    }
   ],
   "source": [
    "#P_A and Q_A both must be 2^4 torsion points\n",
    "P_A = E.random_point()\n",
    "Q_A = E.random_point()\n",
    "while P_A.order() != 2^4:\n",
    "    P_A = 3^3 * E.random_point()\n",
    "\n",
    "while Q_A.order() != 2^4:\n",
    "    Q_A = 3^3 * E.random_point()\n",
    "    \n",
    "P_A,Q_A"
   ]
  },
  {
   "cell_type": "code",
   "execution_count": 4,
   "metadata": {},
   "outputs": [
    {
     "data": {
      "text/plain": [
       "((328*i + 262 : 417*i + 72 : 1), (26*i + 26 : 417*i + 311 : 1))"
      ]
     },
     "execution_count": 4,
     "metadata": {},
     "output_type": "execute_result"
    }
   ],
   "source": [
    "#P_B and Q_B both must be 3^3 torsion points\n",
    "P_B = E.random_point()\n",
    "Q_B = E.random_point()\n",
    "while P_B.order() != 3^3:\n",
    "    P_B = 2^4 * E.random_point()\n",
    "\n",
    "while Q_B.order() != 3^3:\n",
    "    Q_B = 2^4 * E.random_point()\n",
    "    \n",
    "P_B,Q_B"
   ]
  },
  {
   "cell_type": "code",
   "execution_count": 5,
   "metadata": {},
   "outputs": [
    {
     "name": "stdout",
     "output_type": "stream",
     "text": [
      "(Elliptic Curve defined by y^2 = x^3 + (172*i+162)*x^2 + x over Finite Field in i of size 431^2, (131*i + 44 : 215*i + 93 : 1), (256*i + 297 : 5*i + 114 : 1), (328*i + 262 : 417*i + 72 : 1), (26*i + 26 : 417*i + 311 : 1))\n",
      "(16, 16, 27, 27)\n"
     ]
    }
   ],
   "source": [
    "print((E, P_A, Q_A, P_B, Q_B))\n",
    "print((P_A.order(),Q_A.order(),P_B.order(),Q_B.order()))"
   ]
  },
  {
   "cell_type": "markdown",
   "metadata": {},
   "source": [
    "## Alice's Public Keys Computation"
   ]
  },
  {
   "cell_type": "code",
   "execution_count": 6,
   "metadata": {},
   "outputs": [
    {
     "data": {
      "text/plain": [
       "(16, (97*i + 408 : 426*i + 3 : 1), 9)"
      ]
     },
     "execution_count": 6,
     "metadata": {},
     "output_type": "execute_result"
    }
   ],
   "source": [
    "#Alice's private key, k_A and Sa = Pa + Ka*Qa\n",
    "#k_A = randint(0, 2^4-1)\n",
    "k_A = 9\n",
    "S_A = P_A + k_A * Q_A\n",
    "S_A.order(), S_A, k_A #k_A should be private"
   ]
  },
  {
   "cell_type": "code",
   "execution_count": 7,
   "metadata": {},
   "outputs": [
    {
     "data": {
      "text/plain": [
       "Isogeny of degree 16 from Elliptic Curve defined by y^2 = x^3 + (172*i+162)*x^2 + x over Finite Field in i of size 431^2 to Elliptic Curve defined by y^2 = x^3 + (172*i+162)*x^2 + (3*i+89)*x + (309*i+269) over Finite Field in i of size 431^2"
      ]
     },
     "execution_count": 7,
     "metadata": {},
     "output_type": "execute_result"
    }
   ],
   "source": [
    "#computes the Alice's secret isogeny\n",
    "phi_A = E.isogeny(S_A)\n",
    "phi_A"
   ]
  },
  {
   "cell_type": "code",
   "execution_count": 8,
   "metadata": {},
   "outputs": [
    {
     "data": {
      "text/plain": [
       "Elliptic Curve defined by y^2 = x^3 + (172*i+162)*x^2 + (3*i+89)*x + (309*i+269) over Finite Field in i of size 431^2"
      ]
     },
     "execution_count": 8,
     "metadata": {},
     "output_type": "execute_result"
    }
   ],
   "source": [
    "#computes E_A\n",
    "E_A = phi_A.codomain()\n",
    "E_A"
   ]
  },
  {
   "cell_type": "code",
   "execution_count": 9,
   "metadata": {},
   "outputs": [
    {
     "data": {
      "text/plain": [
       "(Elliptic Curve defined by y^2 = x^3 + (172*i+162)*x^2 + (3*i+89)*x + (309*i+269) over Finite Field in i of size 431^2,\n",
       " (84*i + 63 : 271*i + 393 : 1),\n",
       " (370*i + 296 : 409*i + 281 : 1))"
      ]
     },
     "execution_count": 9,
     "metadata": {},
     "output_type": "execute_result"
    }
   ],
   "source": [
    "#Alice's public key: Ea, phi_a(Pb), phi_a(Qb)\n",
    "PK_A = (E_A,phi_A(P_B), phi_A(Q_B))\n",
    "PK_A\n"
   ]
  },
  {
   "cell_type": "markdown",
   "metadata": {},
   "source": [
    "## Bob's Public Keys Computation"
   ]
  },
  {
   "cell_type": "code",
   "execution_count": 10,
   "metadata": {},
   "outputs": [
    {
     "data": {
      "text/plain": [
       "(9, (111*i + 333 : 279*i + 9 : 1), 5)"
      ]
     },
     "execution_count": 10,
     "metadata": {},
     "output_type": "execute_result"
    }
   ],
   "source": [
    "#Bob's private key, Kb, and generator Sb = Pb + Kb*Qb\n",
    "#k_B = randint(0, 3^8-1)\n",
    "k_B = 5\n",
    "S_B = P_B + k_B * Q_B\n",
    "S_B.order(), S_B, k_B #k_B should be private"
   ]
  },
  {
   "cell_type": "code",
   "execution_count": 11,
   "metadata": {},
   "outputs": [
    {
     "data": {
      "text/plain": [
       "Isogeny of degree 9 from Elliptic Curve defined by y^2 = x^3 + (172*i+162)*x^2 + x over Finite Field in i of size 431^2 to Elliptic Curve defined by y^2 = x^3 + (172*i+162)*x^2 + (309*i+174)*x + (171*i+156) over Finite Field in i of size 431^2"
      ]
     },
     "execution_count": 11,
     "metadata": {},
     "output_type": "execute_result"
    }
   ],
   "source": [
    "#computes the Bob's secret isogeny\n",
    "phi_B = E.isogeny(S_B)\n",
    "phi_B"
   ]
  },
  {
   "cell_type": "code",
   "execution_count": 12,
   "metadata": {},
   "outputs": [
    {
     "data": {
      "text/plain": [
       "Elliptic Curve defined by y^2 = x^3 + (172*i+162)*x^2 + (309*i+174)*x + (171*i+156) over Finite Field in i of size 431^2"
      ]
     },
     "execution_count": 12,
     "metadata": {},
     "output_type": "execute_result"
    }
   ],
   "source": [
    "#computes E_B\n",
    "E_B = phi_B.codomain()\n",
    "E_B"
   ]
  },
  {
   "cell_type": "code",
   "execution_count": 13,
   "metadata": {},
   "outputs": [
    {
     "data": {
      "text/plain": [
       "(Elliptic Curve defined by y^2 = x^3 + (172*i+162)*x^2 + (309*i+174)*x + (171*i+156) over Finite Field in i of size 431^2,\n",
       " (346*i + 43 : 183*i + 41 : 1),\n",
       " (195*i + 11 : 240*i + 118 : 1))"
      ]
     },
     "execution_count": 13,
     "metadata": {},
     "output_type": "execute_result"
    }
   ],
   "source": [
    "#Bob's public key: Ea, phi_a(Pb), phi_a(Qb)\n",
    "PK_B = (E_B,phi_B(P_A), phi_B(Q_A))\n",
    "PK_B\n"
   ]
  },
  {
   "cell_type": "markdown",
   "metadata": {},
   "source": [
    "## Shared Secret Computation"
   ]
  },
  {
   "cell_type": "code",
   "execution_count": 14,
   "metadata": {},
   "outputs": [
    {
     "name": "stdout",
     "output_type": "stream",
     "text": [
      "E_AB and E_BA are isomorphic, with j-invariant: 381\n"
     ]
    }
   ],
   "source": [
    "E_AB = E_B.isogeny(PK_B[1] + k_A*PK_B[2]).codomain()\n",
    "E_BA = E_A.isogeny(PK_A[1] + k_B*PK_A[2]).codomain()\n",
    "\n",
    "if E_AB.j_invariant()==E_BA.j_invariant():\n",
    "    print(\"E_AB and E_BA are isomorphic, with j-invariant:\",E_BA.j_invariant())\n",
    "\n",
    "\n"
   ]
  },
  {
   "cell_type": "code",
   "execution_count": null,
   "metadata": {},
   "outputs": [],
   "source": []
  }
 ],
 "metadata": {
  "kernelspec": {
   "display_name": "SageMath 9.1",
   "language": "sage",
   "name": "sagemath"
  },
  "language_info": {
   "codemirror_mode": {
    "name": "ipython",
    "version": 3
   },
   "file_extension": ".py",
   "mimetype": "text/x-python",
   "name": "python",
   "nbconvert_exporter": "python",
   "pygments_lexer": "ipython3",
   "version": "3.7.3"
  }
 },
 "nbformat": 4,
 "nbformat_minor": 2
}
