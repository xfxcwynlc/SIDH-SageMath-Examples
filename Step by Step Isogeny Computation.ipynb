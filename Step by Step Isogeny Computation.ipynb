{
 "cells": [
  {
   "cell_type": "markdown",
   "metadata": {},
   "source": [
    "# Step by Step Computation"
   ]
  },
  {
   "cell_type": "code",
   "execution_count": 1,
   "metadata": {},
   "outputs": [],
   "source": [
    "#takes a in Ea:y^2=x3+ax^2+, and x coordinate\n",
    "#Both must be in the field of F_p^2\n",
    "\n",
    "def two_multiplication(a,x,times=1):\n",
    "    while(times>0):\n",
    "        x=((x^2-1)^2/((4*x)*(x^2+a*x+1)))\n",
    "        times=times-1\n",
    "    return x\n",
    "\n",
    "\n",
    "#takes a in Ea:y^2=x3+ax^2+, and x coordinate\n",
    "#Both must be in the field of F_p^2\n",
    "\n",
    "def three_multiplication(b,y,t=1):\n",
    "    while(t>0):\n",
    "        y = y*((y^4-6*y^2-4*b*y-3)/(3*y^4+4*b*y^3+6*y^2-1))^2\n",
    "        t=t-1\n",
    "    return y"
   ]
  },
  {
   "cell_type": "code",
   "execution_count": 2,
   "metadata": {},
   "outputs": [],
   "source": [
    "#input: alpha is, α in G = {O, (α, 0)} ; x, x-coordinate\n",
    "#output: (x's image, new a)\n",
    "\n",
    "def two_isogeny_velu(alpha,x):\n",
    "    return (x*(alpha*x-1)/(x-alpha),2*(1-2*alpha^2))\n",
    "\n",
    "\n",
    "#input: a in Montgomery curve ;beta is, β in G = {O, (β, γ), (β, −γ)}; x, x-coordinate\n",
    "#output: (x's image, new a)\n",
    "\n",
    "def three_isogeny_velu(a,beta,x):\n",
    "    return ((x*(beta*x-1)^2)/(x-beta)^2,(a*beta-6*beta^2+6)*beta)\n",
    "    "
   ]
  },
  {
   "cell_type": "markdown",
   "metadata": {},
   "source": [
    "## Public Key Generations"
   ]
  },
  {
   "cell_type": "code",
   "execution_count": 3,
   "metadata": {},
   "outputs": [
    {
     "data": {
      "text/plain": [
       "(431, Finite Field in i of size 431^2)"
      ]
     },
     "execution_count": 3,
     "metadata": {},
     "output_type": "execute_result"
    }
   ],
   "source": [
    "#generates field K = Fp^2 with generator i\n",
    "p=2^4*3^3-1\n",
    "_.<I> = GF(p)[] \n",
    "K.<i> = GF(p^2, modulus=I^2+1)\n",
    "p,K"
   ]
  },
  {
   "cell_type": "code",
   "execution_count": 4,
   "metadata": {},
   "outputs": [
    {
     "data": {
      "text/plain": [
       "Elliptic Curve defined by y^2 = x^3 + (172*i+162)*x^2 + x over Finite Field in i of size 431^2"
      ]
     },
     "execution_count": 4,
     "metadata": {},
     "output_type": "execute_result"
    }
   ],
   "source": [
    "# Define (supersingular) E = x^3 + (172*i+162)*x^2 + x\n",
    "P = K([162,172])  #fetch point = (172i+162) in K\n",
    "E = EllipticCurve(K,[0,P,0,1,0])\n",
    "E "
   ]
  },
  {
   "cell_type": "code",
   "execution_count": 5,
   "metadata": {},
   "outputs": [
    {
     "data": {
      "text/plain": [
       "((384*i + 250 : 3*i + 118 : 1), (182*i + 122 : 129*i + 172 : 1))"
      ]
     },
     "execution_count": 5,
     "metadata": {},
     "output_type": "execute_result"
    }
   ],
   "source": [
    "#P_A and Q_A both must be 2^4 torsion points\n",
    "P_A = E.random_point()\n",
    "Q_A = E.random_point()\n",
    "while P_A.order() != 2^4:\n",
    "    P_A = 3^3 * E.random_point()\n",
    "\n",
    "while Q_A.order() != 2^4:\n",
    "    Q_A = 3^3 * E.random_point()\n",
    "    \n",
    "P_A,Q_A"
   ]
  },
  {
   "cell_type": "code",
   "execution_count": 6,
   "metadata": {},
   "outputs": [
    {
     "data": {
      "text/plain": [
       "((259*i + 332 : 288*i + 94 : 1), (101*i + 330 : 104*i + 74 : 1))"
      ]
     },
     "execution_count": 6,
     "metadata": {},
     "output_type": "execute_result"
    }
   ],
   "source": [
    "#P_B and Q_B both must be 3^3 torsion points\n",
    "P_B = E.random_point()\n",
    "Q_B = E.random_point()\n",
    "while P_B.order() != 3^3:\n",
    "    P_B = 2^4 * E.random_point()\n",
    "\n",
    "while Q_B.order() != 3^3:\n",
    "    Q_B = 2^4 * E.random_point()\n",
    "    \n",
    "P_B,Q_B"
   ]
  },
  {
   "cell_type": "code",
   "execution_count": 7,
   "metadata": {},
   "outputs": [
    {
     "name": "stdout",
     "output_type": "stream",
     "text": [
      "(Elliptic Curve defined by y^2 = x^3 + (172*i+162)*x^2 + x over Finite Field in i of size 431^2, (384*i + 250 : 3*i + 118 : 1), (182*i + 122 : 129*i + 172 : 1), (259*i + 332 : 288*i + 94 : 1), (101*i + 330 : 104*i + 74 : 1))\n"
     ]
    }
   ],
   "source": [
    "print((E, P_A, Q_A, P_B, Q_B))  #public parameters"
   ]
  },
  {
   "cell_type": "markdown",
   "metadata": {},
   "source": [
    "## Alice's public key generations"
   ]
  },
  {
   "cell_type": "code",
   "execution_count": 8,
   "metadata": {},
   "outputs": [
    {
     "data": {
      "text/plain": [
       "(16, (121*i + 44 : 61*i + 228 : 1), 9)"
      ]
     },
     "execution_count": 8,
     "metadata": {},
     "output_type": "execute_result"
    }
   ],
   "source": [
    "#Alice's private key, k_A and Sa = Pa + Ka*Qa\n",
    "#k_A = randint in {0, 2^4-1}\n",
    "k_A = 9\n",
    "S_A = P_A + k_A * Q_A\n",
    "S_A.order(), S_A, k_A #k_A should be private"
   ]
  },
  {
   "cell_type": "markdown",
   "metadata": {},
   "source": [
    "### phi_A0"
   ]
  },
  {
   "cell_type": "code",
   "execution_count": 9,
   "metadata": {},
   "outputs": [
    {
     "data": {
      "text/plain": [
       "390*i + 160"
      ]
     },
     "execution_count": 9,
     "metadata": {},
     "output_type": "execute_result"
    }
   ],
   "source": [
    "#3 times 2-multiplication to get R_A\n",
    "a = K([162,172])\n",
    "R_A = two_multiplication(a,S_A[0],3); R_A"
   ]
  },
  {
   "cell_type": "code",
   "execution_count": 10,
   "metadata": {},
   "outputs": [
    {
     "name": "stdout",
     "output_type": "stream",
     "text": [
      "329*i + 8 222*i + 194 268*i + 214 20*i + 246\n"
     ]
    }
   ],
   "source": [
    "a_1 = two_isogeny_velu(R_A,S_A[0])[1]\n",
    "S_A_new = two_isogeny_velu(R_A,S_A[0])[0] #output: (x's image, new a)\n",
    "P_B_new = two_isogeny_velu(R_A,P_B[0])[0]\n",
    "Q_B_new = two_isogeny_velu(R_A,Q_B[0])[0]\n",
    "print(a_1,S_A_new, P_B_new, Q_B_new)"
   ]
  },
  {
   "cell_type": "code",
   "execution_count": 11,
   "metadata": {},
   "outputs": [
    {
     "name": "stdout",
     "output_type": "stream",
     "text": [
      "Elliptic Curve defined by y^2 = x^3 + (329*i+8)*x^2 + x over Finite Field in i of size 431^2\n",
      "j_invariant:344*i + 190\n"
     ]
    }
   ],
   "source": [
    "E_a1 = EllipticCurve(K,[0,a_1,0,1,0]);\n",
    "print(E_a1)\n",
    "print(\"j_invariant:\"+ str(E_a1.j_invariant()))"
   ]
  },
  {
   "cell_type": "markdown",
   "metadata": {},
   "source": [
    "### phi_A1"
   ]
  },
  {
   "cell_type": "code",
   "execution_count": 12,
   "metadata": {},
   "outputs": [
    {
     "data": {
      "text/plain": [
       "84*i + 29"
      ]
     },
     "execution_count": 12,
     "metadata": {},
     "output_type": "execute_result"
    }
   ],
   "source": [
    "#2 times 2-multiplication to get new R_A\n",
    "R_A_1 = two_multiplication(a_1,S_A_new,2); R_A_1"
   ]
  },
  {
   "cell_type": "code",
   "execution_count": 13,
   "metadata": {},
   "outputs": [
    {
     "name": "stdout",
     "output_type": "stream",
     "text": [
      "338*i + 295 311*i + 78 132*i + 159 402*i + 256\n"
     ]
    }
   ],
   "source": [
    "a_2 = two_isogeny_velu(R_A_1,S_A_new)[1]\n",
    "S_A_1 = two_isogeny_velu(R_A_1,S_A_new)[0] #output: (x's image, new a)\n",
    "P_B_1 = two_isogeny_velu(R_A_1,P_B_new)[0]\n",
    "Q_B_1 = two_isogeny_velu(R_A_1,Q_B_new)[0]\n",
    "print(a_2,S_A_1, P_B_1, Q_B_1)"
   ]
  },
  {
   "cell_type": "code",
   "execution_count": 14,
   "metadata": {},
   "outputs": [
    {
     "name": "stdout",
     "output_type": "stream",
     "text": [
      "Elliptic Curve defined by y^2 = x^3 + (338*i+295)*x^2 + x over Finite Field in i of size 431^2\n",
      "j_invariant:350*i + 65\n"
     ]
    }
   ],
   "source": [
    "E_a2 = EllipticCurve(K,[0,a_2,0,1,0]);\n",
    "print(E_a2)\n",
    "print(\"j_invariant:\"+ str(E_a2.j_invariant()))"
   ]
  },
  {
   "cell_type": "markdown",
   "metadata": {},
   "source": [
    "### phi_A2"
   ]
  },
  {
   "cell_type": "code",
   "execution_count": 15,
   "metadata": {},
   "outputs": [
    {
     "data": {
      "text/plain": [
       "320*i + 286"
      ]
     },
     "execution_count": 15,
     "metadata": {},
     "output_type": "execute_result"
    }
   ],
   "source": [
    "#1 2-multiplication to get new R_A\n",
    "R_A_2 = two_multiplication(a_2,S_A_1,1); R_A_2\n",
    "#"
   ]
  },
  {
   "cell_type": "code",
   "execution_count": 16,
   "metadata": {},
   "outputs": [
    {
     "name": "stdout",
     "output_type": "stream",
     "text": [
      "109*i + 97 244*i + 304 317*i + 239 107*i + 206\n"
     ]
    }
   ],
   "source": [
    "a_3 = two_isogeny_velu(R_A_2,S_A_1)[1]\n",
    "S_A_2 = two_isogeny_velu(R_A_2,S_A_1)[0] #output: (x's image, new a)\n",
    "P_B_2 = two_isogeny_velu(R_A_2,P_B_1)[0]\n",
    "Q_B_2 = two_isogeny_velu(R_A_2,Q_B_1)[0]\n",
    "print(a_3,S_A_2, P_B_2, Q_B_2)"
   ]
  },
  {
   "cell_type": "code",
   "execution_count": 17,
   "metadata": {},
   "outputs": [
    {
     "name": "stdout",
     "output_type": "stream",
     "text": [
      "Elliptic Curve defined by y^2 = x^3 + (109*i+97)*x^2 + x over Finite Field in i of size 431^2\n",
      "j_invariant:389*i + 141\n"
     ]
    }
   ],
   "source": [
    "E_a3 = EllipticCurve(K,[0,a_3,0,1,0]);\n",
    "print(E_a3)\n",
    "print(\"j_invariant:\"+ str(E_a3.j_invariant()))"
   ]
  },
  {
   "cell_type": "markdown",
   "metadata": {},
   "source": [
    "### phi_A3"
   ]
  },
  {
   "cell_type": "code",
   "execution_count": 18,
   "metadata": {},
   "outputs": [],
   "source": [
    "#0 time 2-multiplication to get new R_A\n",
    "R_A_3 = two_multiplication(a_3,S_A_2,0);"
   ]
  },
  {
   "cell_type": "code",
   "execution_count": 19,
   "metadata": {},
   "outputs": [
    {
     "name": "stdout",
     "output_type": "stream",
     "text": [
      "79*i + 368 156*i + 324 243*i + 253\n"
     ]
    }
   ],
   "source": [
    "a_4 = two_isogeny_velu(R_A_3,P_B_2)[1]\n",
    "#S_A_3 = two_isogeny_velu(R_A_2,S_A_2)[0]  \n",
    "P_B_3 = two_isogeny_velu(R_A_3,P_B_2)[0]\n",
    "Q_B_3 = two_isogeny_velu(R_A_3,Q_B_2)[0]\n",
    "print(a_4, P_B_3, Q_B_3)"
   ]
  },
  {
   "cell_type": "code",
   "execution_count": 20,
   "metadata": {},
   "outputs": [
    {
     "name": "stdout",
     "output_type": "stream",
     "text": [
      "Elliptic Curve defined by y^2 = x^3 + (79*i+368)*x^2 + x over Finite Field in i of size 431^2\n",
      "j_invariant:306*i + 426\n"
     ]
    }
   ],
   "source": [
    "E_a4 = EllipticCurve(K,[0,a_4,0,1,0]);\n",
    "print(E_a4)\n",
    "print(\"j_invariant:\"+ str(E_a4.j_invariant()))"
   ]
  },
  {
   "cell_type": "markdown",
   "metadata": {},
   "source": [
    "### PK_A\n"
   ]
  },
  {
   "cell_type": "code",
   "execution_count": 21,
   "metadata": {},
   "outputs": [
    {
     "name": "stdout",
     "output_type": "stream",
     "text": [
      "E_A, phi_A(Pb) ,  Phi_A(Qb)\n",
      "79*i + 368 156*i + 324 243*i + 253\n"
     ]
    },
    {
     "data": {
      "text/plain": [
       "[79*i + 368, 156*i + 324, 243*i + 253]"
      ]
     },
     "execution_count": 21,
     "metadata": {},
     "output_type": "execute_result"
    }
   ],
   "source": [
    "#(E_A : y^2 = x^3 + 415x^2 + x, phi_A(Pb) , Phi_A(Qb))\n",
    "print(\"E_A, phi_A(Pb) ,  Phi_A(Qb)\")\n",
    "print(a_4, P_B_3, Q_B_3)\n",
    "pk_A=list((a_4, P_B_3, Q_B_3)); \n",
    "pk_A"
   ]
  },
  {
   "cell_type": "markdown",
   "metadata": {},
   "source": [
    "## Bob's public key generations"
   ]
  },
  {
   "cell_type": "code",
   "execution_count": 22,
   "metadata": {},
   "outputs": [
    {
     "data": {
      "text/plain": [
       "(27, (354*i + 163 : 384*i + 10 : 1), 16, 16)"
      ]
     },
     "execution_count": 22,
     "metadata": {},
     "output_type": "execute_result"
    }
   ],
   "source": [
    "#Bob's private key, k_A and Sb = Pb + Kb*Qb\n",
    "#k_b = randint in {0, 3^3-1}\n",
    "k_B = 5\n",
    "S_B = P_B + k_B * Q_B\n",
    "S_B.order(), S_B, P_A.order(),Q_A.order()"
   ]
  },
  {
   "cell_type": "markdown",
   "metadata": {},
   "source": [
    "### phi_B0"
   ]
  },
  {
   "cell_type": "code",
   "execution_count": 23,
   "metadata": {},
   "outputs": [
    {
     "data": {
      "text/plain": [
       "253*i + 234"
      ]
     },
     "execution_count": 23,
     "metadata": {},
     "output_type": "execute_result"
    }
   ],
   "source": [
    "#2 times 3-multiplication to get R_B\n",
    "b = K([162,172]) #a = 162+172i\n",
    "R_B = three_multiplication(b,S_B[0],2);R_B"
   ]
  },
  {
   "cell_type": "code",
   "execution_count": 24,
   "metadata": {},
   "outputs": [
    {
     "name": "stdout",
     "output_type": "stream",
     "text": [
      "329*i + 8 384*i + 214 132*i + 83 377*i + 132\n"
     ]
    }
   ],
   "source": [
    "b_1 = three_isogeny_velu(b,R_B,S_B[0])[1]\n",
    "S_B_new = three_isogeny_velu(b,R_B,S_B[0])[0] #output: (x's image, new a)\n",
    "P_A_new = three_isogeny_velu(b,R_B,P_A[0])[0]\n",
    "Q_A_new = three_isogeny_velu(b,R_B,Q_A[0])[0]\n",
    "print(a_1,S_B_new, P_A_new, Q_A_new)"
   ]
  },
  {
   "cell_type": "code",
   "execution_count": 25,
   "metadata": {},
   "outputs": [
    {
     "name": "stdout",
     "output_type": "stream",
     "text": [
      "Elliptic Curve defined by y^2 = x^3 + (19*i+205)*x^2 + x over Finite Field in i of size 431^2\n",
      "j-invariant: 106*i + 379\n"
     ]
    }
   ],
   "source": [
    "E_b1 = EllipticCurve(K,[0,b_1,0,1,0]);\n",
    "print(E_b1)\n",
    "print(\"j-invariant: \"+str(E_b1.j_invariant()))\n",
    "\n"
   ]
  },
  {
   "cell_type": "markdown",
   "metadata": {},
   "source": [
    "### phi_B1"
   ]
  },
  {
   "cell_type": "code",
   "execution_count": 26,
   "metadata": {},
   "outputs": [
    {
     "data": {
      "text/plain": [
       "264*i + 201"
      ]
     },
     "execution_count": 26,
     "metadata": {},
     "output_type": "execute_result"
    }
   ],
   "source": [
    "#1 times 3-multiplication to get R_B\n",
    "R_B = three_multiplication(b_1,S_B_new,1);R_B"
   ]
  },
  {
   "cell_type": "code",
   "execution_count": 27,
   "metadata": {},
   "outputs": [
    {
     "name": "stdout",
     "output_type": "stream",
     "text": [
      "248*i + 421 104*i + 100 294*i + 164 285*i + 306\n"
     ]
    }
   ],
   "source": [
    "b_2 = three_isogeny_velu(b_1,R_B,S_B_new)[1]\n",
    "S_B_1 = three_isogeny_velu(b_1,R_B,S_B_new)[0] #output: (x's image, new a)\n",
    "P_A_1 = three_isogeny_velu(b_1,R_B,P_A_new)[0]\n",
    "Q_A_1 = three_isogeny_velu(b_1,R_B,Q_A_new)[0]\n",
    "print(b_2,S_B_1, P_A_1, Q_A_1)"
   ]
  },
  {
   "cell_type": "code",
   "execution_count": 28,
   "metadata": {},
   "outputs": [
    {
     "name": "stdout",
     "output_type": "stream",
     "text": [
      "Elliptic Curve defined by y^2 = x^3 + (248*i+421)*x^2 + x over Finite Field in i of size 431^2\n",
      "j-invariant: 87*i + 190\n"
     ]
    }
   ],
   "source": [
    "E_b2 = EllipticCurve(K,[0,b_2,0,1,0]);\n",
    "print(E_b2)\n",
    "print(\"j-invariant:\", str(E_b2.j_invariant()))"
   ]
  },
  {
   "cell_type": "markdown",
   "metadata": {},
   "source": [
    "### phi_B2\n"
   ]
  },
  {
   "cell_type": "code",
   "execution_count": 29,
   "metadata": {},
   "outputs": [
    {
     "data": {
      "text/plain": [
       "104*i + 100"
      ]
     },
     "execution_count": 29,
     "metadata": {},
     "output_type": "execute_result"
    }
   ],
   "source": [
    "#0 times 3-multiplication to get R_B\n",
    "R_B = three_multiplication(b_2,S_B_1,0);R_B"
   ]
  },
  {
   "cell_type": "code",
   "execution_count": 30,
   "metadata": {},
   "outputs": [
    {
     "name": "stdout",
     "output_type": "stream",
     "text": [
      "346*i + 429 73*i + 379 326*i + 225\n"
     ]
    }
   ],
   "source": [
    "b_3 = three_isogeny_velu(b_2,R_B,P_A_1)[1]\n",
    "#S_B_1 = three_isogeny_velu(a_2,R_B,S_B_new)[0] #output: (x's image, new a)\n",
    "P_A_2 = three_isogeny_velu(b_2,R_B,P_A_1)[0]\n",
    "Q_A_2 = three_isogeny_velu(b_2,R_B,Q_A_1)[0]\n",
    "print(b_3, P_A_2, Q_A_2)"
   ]
  },
  {
   "cell_type": "code",
   "execution_count": 48,
   "metadata": {},
   "outputs": [
    {
     "name": "stdout",
     "output_type": "stream",
     "text": [
      "Elliptic Curve defined by y^2 = x^3 + (346*i+429)*x^2 + x over Finite Field in i of size 431^2\n",
      "j invariant: 241\n"
     ]
    }
   ],
   "source": [
    "E_b3 = EllipticCurve(K,[0,b_3,0,1,0]);\n",
    "print(E_b3)\n",
    "print(\"j invariant: \"+str(E_b3.j_invariant()))\n",
    "\n"
   ]
  },
  {
   "cell_type": "markdown",
   "metadata": {},
   "source": [
    "### PK_B"
   ]
  },
  {
   "cell_type": "code",
   "execution_count": 50,
   "metadata": {},
   "outputs": [
    {
     "name": "stdout",
     "output_type": "stream",
     "text": [
      "E_B, phi_B(Pa) ,  Phi_B(Qa)\n",
      "346*i + 429 73*i + 379 326*i + 225\n"
     ]
    },
    {
     "data": {
      "text/plain": [
       "[346*i + 429, 73*i + 379, 326*i + 225]"
      ]
     },
     "execution_count": 50,
     "metadata": {},
     "output_type": "execute_result"
    }
   ],
   "source": [
    "#(E_B : y^2 = x^3 + 415x^2 + x, phi_B(Pb) , Phi_A(Qb))\n",
    "print(\"E_B, phi_B(Pa) ,  Phi_B(Qa)\")\n",
    "print(b_3, P_A_2, Q_A_2)\n",
    "pk_B=list((b_3, P_A_2, Q_A_2)); \n",
    "pk_B"
   ]
  },
  {
   "cell_type": "markdown",
   "metadata": {},
   "source": [
    "## Shared Secret Computation"
   ]
  },
  {
   "cell_type": "markdown",
   "metadata": {},
   "source": [
    "### Computes S_A' = phi_B(S_A) = phi_B(P_A) +[k_A] phi_B(Q_A) \n"
   ]
  },
  {
   "cell_type": "markdown",
   "metadata": {},
   "source": [
    "#### Notes: since in the previous computation, we ignored the y coordinate when mapped P_A, Q_A through isogenies, this will cause a problem in the computation of shared secret : as the basis points phi_B(P_A) ,  phi_B(Q_A) should retain their orders on E_B, thus Alice can keep composing e_A isogenies on E_B to maps phi_B(S_A) into kernel . With only x-coordinates obtained, We can't check if phi_B(P_A) ,  phi_B(Q_A) has remained the same order as original or not. To proceed the shared secret part,  we will  use  .isogeny() method to obtain phi_B(P_A) ,  phi_B(Q_A). We check the correctness by comparing the x(phi_B(P_A)) and x(phi_B(Q_A)) with our pk_B[1], pk_B[2]."
   ]
  },
  {
   "cell_type": "code",
   "execution_count": 51,
   "metadata": {},
   "outputs": [
    {
     "data": {
      "text/plain": [
       "(27, 27, 27, 27)"
      ]
     },
     "execution_count": 51,
     "metadata": {},
     "output_type": "execute_result"
    }
   ],
   "source": [
    "iso_a = E.isogeny(S_A,codomain = E_a4)\n",
    "phiA_Pb = iso_a(P_B)\n",
    "phiA_Qb = iso_a(Q_B)\n",
    "Q_B.order(),phiA_Qb.order(), P_B.order(), phiA_Pb.order()"
   ]
  },
  {
   "cell_type": "code",
   "execution_count": 52,
   "metadata": {},
   "outputs": [
    {
     "data": {
      "text/plain": [
       "(16, 16, 16, 16)"
      ]
     },
     "execution_count": 52,
     "metadata": {},
     "output_type": "execute_result"
    }
   ],
   "source": [
    "iso_b = E.isogeny(S_B,codomain = E_b3)\n",
    "phiB_Pa = iso_b(P_A)\n",
    "phiB_Qa = iso_b(Q_A)\n",
    "Q_A.order(),phiB_Qa.order(), P_A.order(), phiB_Pa.order()"
   ]
  },
  {
   "cell_type": "code",
   "execution_count": 53,
   "metadata": {},
   "outputs": [
    {
     "data": {
      "text/plain": [
       "((156*i + 324 : 268*i + 351 : 1),\n",
       " (243*i + 253 : 64*i + 99 : 1),\n",
       " (73*i + 379 : 135*i + 229 : 1),\n",
       " (326*i + 225 : 321*i + 195 : 1))"
      ]
     },
     "execution_count": 53,
     "metadata": {},
     "output_type": "execute_result"
    }
   ],
   "source": [
    "#we proceed the computation using these ptrs:\n",
    "(phiA_Pb,phiA_Qb,phiB_Pa,phiB_Qa) "
   ]
  },
  {
   "cell_type": "markdown",
   "metadata": {},
   "source": [
    "#### We can see that our step-by-step isogeny composition for x-coordinates are correctly computed, which can be checked by looking at pk_a[1], pk_a[2], pk_b[1], pk[2] in the above. We will use these latest generated points and proceed the shared secret computation."
   ]
  },
  {
   "cell_type": "markdown",
   "metadata": {},
   "source": [
    "## Alice's S_A'= phi_B(S_A) =  phi_B(Pa)+[kA] phi_B(Qa) "
   ]
  },
  {
   "cell_type": "code",
   "execution_count": 54,
   "metadata": {},
   "outputs": [
    {
     "data": {
      "text/plain": [
       "((129*i + 265 : 231*i + 425 : 1), 16)"
      ]
     },
     "execution_count": 54,
     "metadata": {},
     "output_type": "execute_result"
    }
   ],
   "source": [
    "#Alice computes S_A' = phi_B(S_A) =  phi_B(Pa)+[kA] phi_B(qa) \n",
    "PhiB_Sa = phiB_Pa + k_A * phiB_Qa\n",
    "PhiB_Sa, PhiB_Sa.order()"
   ]
  },
  {
   "cell_type": "markdown",
   "metadata": {},
   "source": [
    "### phi_A0'"
   ]
  },
  {
   "cell_type": "code",
   "execution_count": 55,
   "metadata": {},
   "outputs": [
    {
     "data": {
      "text/plain": [
       "28*i + 221"
      ]
     },
     "execution_count": 55,
     "metadata": {},
     "output_type": "execute_result"
    }
   ],
   "source": [
    "#3 times 2-multiplication to get Ra\n",
    "#start with curve E_b: y^2 = x^3 + (109*i + 97)x^2 +x\n",
    "Ra= two_multiplication(pk_B[0],PhiB_Sa[0],3); Ra"
   ]
  },
  {
   "cell_type": "code",
   "execution_count": 56,
   "metadata": {},
   "outputs": [
    {
     "name": "stdout",
     "output_type": "stream",
     "text": [
      "61*i 32*i\n"
     ]
    }
   ],
   "source": [
    "(PhiB_Sa_new,a1) = two_isogeny_velu(Ra,PhiB_Sa[0])  #output: (x's image, new a)\n",
    "\n",
    "#As we don't need to move the basis points, so comment out this 2 lines\n",
    "#P_B_new = two_isogeny_velu(R_A,P_B[0])[0]\n",
    "#Q_B_new = two_isogeny_velu(R_A,Q_B[0])[0]\n",
    "\n",
    "print(a1,PhiB_Sa_new)"
   ]
  },
  {
   "cell_type": "code",
   "execution_count": 57,
   "metadata": {},
   "outputs": [
    {
     "name": "stdout",
     "output_type": "stream",
     "text": [
      "Elliptic Curve defined by y^2 = x^3 + 61*i*x^2 + x over Finite Field in i of size 431^2\n",
      "j_invariant:19\n"
     ]
    }
   ],
   "source": [
    "Ea1 = EllipticCurve(K,[0,a1,0,1,0]);\n",
    "print(Ea1)\n",
    "print(\"j_invariant:\"+ str(Ea1.j_invariant()))"
   ]
  },
  {
   "cell_type": "markdown",
   "metadata": {},
   "source": [
    "### phi_A1'"
   ]
  },
  {
   "cell_type": "code",
   "execution_count": 58,
   "metadata": {},
   "outputs": [
    {
     "data": {
      "text/plain": [
       "305*i"
      ]
     },
     "execution_count": 58,
     "metadata": {},
     "output_type": "execute_result"
    }
   ],
   "source": [
    "#2 times 2-multiplication to get Ra\n",
    "Ra= two_multiplication(a1,PhiB_Sa_new,2); Ra"
   ]
  },
  {
   "cell_type": "code",
   "execution_count": 59,
   "metadata": {},
   "outputs": [
    {
     "name": "stdout",
     "output_type": "stream",
     "text": [
      "149 189\n"
     ]
    }
   ],
   "source": [
    "(PhiB_Sa_1,a2) = two_isogeny_velu(Ra,PhiB_Sa_new)  #output: (x's image, new a)\n",
    "print(a2,PhiB_Sa_1)"
   ]
  },
  {
   "cell_type": "code",
   "execution_count": 60,
   "metadata": {},
   "outputs": [
    {
     "name": "stdout",
     "output_type": "stream",
     "text": [
      "Elliptic Curve defined by y^2 = x^3 + 149*x^2 + x over Finite Field in i of size 431^2\n",
      "j_invariant:4\n"
     ]
    }
   ],
   "source": [
    "Ea2 = EllipticCurve(K,[0,a2,0,1,0]);\n",
    "print(Ea2)\n",
    "print(\"j_invariant:\"+ str(Ea2.j_invariant()))"
   ]
  },
  {
   "cell_type": "markdown",
   "metadata": {},
   "source": [
    "### phi_A2'"
   ]
  },
  {
   "cell_type": "code",
   "execution_count": 61,
   "metadata": {},
   "outputs": [
    {
     "data": {
      "text/plain": [
       "188"
      ]
     },
     "execution_count": 61,
     "metadata": {},
     "output_type": "execute_result"
    }
   ],
   "source": [
    "#1 times 2-multiplication to get Ra\n",
    "Ra= two_multiplication(a2,PhiB_Sa_1,1); Ra"
   ]
  },
  {
   "cell_type": "code",
   "execution_count": 62,
   "metadata": {},
   "outputs": [
    {
     "name": "stdout",
     "output_type": "stream",
     "text": [
      "425 379\n"
     ]
    }
   ],
   "source": [
    "(PhiB_Sa_2,a3) = two_isogeny_velu(Ra,PhiB_Sa_1)  #output: (x's image, new a)\n",
    "print(a3,PhiB_Sa_2)"
   ]
  },
  {
   "cell_type": "code",
   "execution_count": 63,
   "metadata": {},
   "outputs": [
    {
     "name": "stdout",
     "output_type": "stream",
     "text": [
      "Elliptic Curve defined by y^2 = x^3 + 425*x^2 + x over Finite Field in i of size 431^2\n",
      "j_invariant:19\n"
     ]
    }
   ],
   "source": [
    "Ea3 = EllipticCurve(K,[0,a3,0,1,0]);\n",
    "print(Ea3)\n",
    "print(\"j_invariant:\"+ str(Ea3.j_invariant()))"
   ]
  },
  {
   "cell_type": "markdown",
   "metadata": {},
   "source": [
    "### phi_A3'"
   ]
  },
  {
   "cell_type": "code",
   "execution_count": 64,
   "metadata": {},
   "outputs": [
    {
     "data": {
      "text/plain": [
       "379"
      ]
     },
     "execution_count": 64,
     "metadata": {},
     "output_type": "execute_result"
    }
   ],
   "source": [
    "#0 times 2-multiplication to get Ra\n",
    "Ra= two_multiplication(a3,PhiB_Sa_2,0); Ra"
   ]
  },
  {
   "cell_type": "code",
   "execution_count": 68,
   "metadata": {},
   "outputs": [
    {
     "name": "stdout",
     "output_type": "stream",
     "text": [
      "392\n"
     ]
    }
   ],
   "source": [
    "(_, a4) = two_isogeny_velu(Ra,1)  #output: (x's image, new a)\n",
    "print(a4)  #PhiB_Sa' already has order 2, doesn't need to compute"
   ]
  },
  {
   "cell_type": "markdown",
   "metadata": {},
   "source": [
    "## Alice' shared secret"
   ]
  },
  {
   "cell_type": "code",
   "execution_count": 93,
   "metadata": {},
   "outputs": [
    {
     "name": "stdout",
     "output_type": "stream",
     "text": [
      "Elliptic Curve defined by y^2 = x^3 + 392*x^2 + x over Finite Field in i of size 431^2\n",
      "j_invariant:241\n"
     ]
    }
   ],
   "source": [
    "Ea4 = EllipticCurve(K,[0,a4,0,1,0]);\n",
    "print(Ea4)\n",
    "print(\"j_invariant:\"+ str(Ea4.j_invariant()))\n",
    "Eab = Ea4"
   ]
  },
  {
   "cell_type": "markdown",
   "metadata": {},
   "source": [
    "## Bob's S_B'= phi_A(S_B) =  phi_A(Pb)+[kB] phi_A(Qb) "
   ]
  },
  {
   "cell_type": "code",
   "execution_count": 70,
   "metadata": {},
   "outputs": [
    {
     "data": {
      "text/plain": [
       "((147*i + 32 : 264*i + 394 : 1), 27)"
      ]
     },
     "execution_count": 70,
     "metadata": {},
     "output_type": "execute_result"
    }
   ],
   "source": [
    "#Alice computes S_A' = phi_B(S_A) =  phi_B(Pa)+[kA] phi_B(qa) \n",
    "PhiA_Sb = phiA_Pb + k_B* phiA_Qb\n",
    "PhiA_Sb, PhiA_Sb.order()"
   ]
  },
  {
   "cell_type": "markdown",
   "metadata": {},
   "source": [
    "### phi_B0'"
   ]
  },
  {
   "cell_type": "code",
   "execution_count": 82,
   "metadata": {},
   "outputs": [
    {
     "data": {
      "text/plain": [
       "8*i + 10"
      ]
     },
     "execution_count": 82,
     "metadata": {},
     "output_type": "execute_result"
    }
   ],
   "source": [
    "#2 times 3-multiplication to get Rb\n",
    "Rb = three_multiplication(pk_A[0],PhiA_Sb[0],2);Rb"
   ]
  },
  {
   "cell_type": "code",
   "execution_count": 83,
   "metadata": {},
   "outputs": [
    {
     "name": "stdout",
     "output_type": "stream",
     "text": [
      "17*i + 154 203*i + 120\n"
     ]
    }
   ],
   "source": [
    "(PhiA_Sb_new,b1)= three_isogeny_velu(pk_A[0],Rb,PhiA_Sb[0])\n",
    "print(b1,PhiA_Sb_new)"
   ]
  },
  {
   "cell_type": "code",
   "execution_count": 84,
   "metadata": {},
   "outputs": [
    {
     "name": "stdout",
     "output_type": "stream",
     "text": [
      "Elliptic Curve defined by y^2 = x^3 + (17*i+154)*x^2 + x over Finite Field in i of size 431^2\n",
      "j-invariant: 81*i + 65\n"
     ]
    }
   ],
   "source": [
    "Eb1 = EllipticCurve(K,[0,b1,0,1,0]);\n",
    "print(Eb1)\n",
    "print(\"j-invariant: \"+str(Eb1.j_invariant()))"
   ]
  },
  {
   "cell_type": "markdown",
   "metadata": {},
   "source": [
    "### phi_B1'"
   ]
  },
  {
   "cell_type": "code",
   "execution_count": 85,
   "metadata": {},
   "outputs": [
    {
     "data": {
      "text/plain": [
       "220*i + 126"
      ]
     },
     "execution_count": 85,
     "metadata": {},
     "output_type": "execute_result"
    }
   ],
   "source": [
    "#1 times 3-multiplication to get Rb\n",
    "Rb = three_multiplication(b1,PhiA_Sb_new,1);Rb"
   ]
  },
  {
   "cell_type": "code",
   "execution_count": 86,
   "metadata": {},
   "outputs": [
    {
     "name": "stdout",
     "output_type": "stream",
     "text": [
      "329*i + 8 249*i + 318\n"
     ]
    }
   ],
   "source": [
    "(PhiA_Sb_1,b2)= three_isogeny_velu(b1,Rb,PhiA_Sb_new)\n",
    "print(b2,PhiA_Sb_1)"
   ]
  },
  {
   "cell_type": "code",
   "execution_count": 87,
   "metadata": {},
   "outputs": [
    {
     "name": "stdout",
     "output_type": "stream",
     "text": [
      "Elliptic Curve defined by y^2 = x^3 + (329*i+8)*x^2 + x over Finite Field in i of size 431^2\n",
      "j-invariant: 344*i + 190\n"
     ]
    }
   ],
   "source": [
    "Eb2 = EllipticCurve(K,[0,b2,0,1,0]);\n",
    "print(Eb2)\n",
    "print(\"j-invariant: \"+str(Eb2.j_invariant()))"
   ]
  },
  {
   "cell_type": "markdown",
   "metadata": {},
   "source": [
    "### phi_B2'"
   ]
  },
  {
   "cell_type": "code",
   "execution_count": 89,
   "metadata": {},
   "outputs": [
    {
     "data": {
      "text/plain": [
       "249*i + 318"
      ]
     },
     "execution_count": 89,
     "metadata": {},
     "output_type": "execute_result"
    }
   ],
   "source": [
    "#1 times 3-multiplication to get Rb\n",
    "Rb = three_multiplication(b2,PhiA_Sb_1,0);Rb"
   ]
  },
  {
   "cell_type": "code",
   "execution_count": 91,
   "metadata": {},
   "outputs": [
    {
     "name": "stdout",
     "output_type": "stream",
     "text": [
      "392\n"
     ]
    }
   ],
   "source": [
    "(_,b3)= three_isogeny_velu(b2,Rb,1)\n",
    "print(b3)"
   ]
  },
  {
   "cell_type": "markdown",
   "metadata": {},
   "source": [
    "## Bob's shared secret"
   ]
  },
  {
   "cell_type": "code",
   "execution_count": 94,
   "metadata": {},
   "outputs": [
    {
     "name": "stdout",
     "output_type": "stream",
     "text": [
      "Elliptic Curve defined by y^2 = x^3 + 392*x^2 + x over Finite Field in i of size 431^2\n",
      "j-invariant: 241\n"
     ]
    }
   ],
   "source": [
    "Eb3 = EllipticCurve(K,[0,b3,0,1,0]);\n",
    "print(Eb3)\n",
    "print(\"j-invariant: \"+str(Eb3.j_invariant()))\n",
    "\n",
    "Eba = Eb3"
   ]
  },
  {
   "cell_type": "code",
   "execution_count": 95,
   "metadata": {},
   "outputs": [
    {
     "name": "stdout",
     "output_type": "stream",
     "text": [
      "ALice and Bob have the same j-invariant, Eab, Eba are isomorphic, with j invariant: 241\n"
     ]
    }
   ],
   "source": [
    "if Eab.j_invariant() == Eba.j_invariant():\n",
    "    print(\"ALice and Bob have the same j-invariant, Eab, Eba are isomorphic, with j invariant: \"+ str(Eab.j_invariant() ))"
   ]
  },
  {
   "cell_type": "markdown",
   "metadata": {},
   "source": [
    "# Alice and Bob shares the same secret!"
   ]
  },
  {
   "cell_type": "code",
   "execution_count": null,
   "metadata": {},
   "outputs": [],
   "source": []
  }
 ],
 "metadata": {
  "kernelspec": {
   "display_name": "SageMath 9.1",
   "language": "sage",
   "name": "sagemath"
  },
  "language_info": {
   "codemirror_mode": {
    "name": "ipython",
    "version": 3
   },
   "file_extension": ".py",
   "mimetype": "text/x-python",
   "name": "python",
   "nbconvert_exporter": "python",
   "pygments_lexer": "ipython3",
   "version": "3.7.3"
  }
 },
 "nbformat": 4,
 "nbformat_minor": 2
}
